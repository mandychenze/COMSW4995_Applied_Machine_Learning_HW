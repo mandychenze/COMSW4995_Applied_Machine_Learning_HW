{
 "cells": [
  {
   "cell_type": "markdown",
   "metadata": {},
   "source": [
    "Student Name: Ze Chen"
   ]
  },
  {
   "cell_type": "markdown",
   "metadata": {},
   "source": [
    "# Task 2  - Telcom Customer Churn Analysis"
   ]
  },
  {
   "cell_type": "markdown",
   "metadata": {},
   "source": [
    "data source: https://www.kaggle.com/blastchar/telco-customer-churn"
   ]
  },
  {
   "cell_type": "code",
   "execution_count": 1,
   "metadata": {},
   "outputs": [],
   "source": [
    "import pandas as pd\n",
    "import numpy as np\n",
    "import matplotlib.pyplot as plt\n",
    "import xlrd #read xls\n",
    "import sklearn\n",
    "import warnings\n",
    "warnings.filterwarnings('ignore')"
   ]
  },
  {
   "cell_type": "code",
   "execution_count": 2,
   "metadata": {},
   "outputs": [
    {
     "data": {
      "text/html": [
       "<div>\n",
       "<style scoped>\n",
       "    .dataframe tbody tr th:only-of-type {\n",
       "        vertical-align: middle;\n",
       "    }\n",
       "\n",
       "    .dataframe tbody tr th {\n",
       "        vertical-align: top;\n",
       "    }\n",
       "\n",
       "    .dataframe thead th {\n",
       "        text-align: right;\n",
       "    }\n",
       "</style>\n",
       "<table border=\"1\" class=\"dataframe\">\n",
       "  <thead>\n",
       "    <tr style=\"text-align: right;\">\n",
       "      <th></th>\n",
       "      <th>gender</th>\n",
       "      <th>SeniorCitizen</th>\n",
       "      <th>Partner</th>\n",
       "      <th>Dependents</th>\n",
       "      <th>tenure</th>\n",
       "      <th>PhoneService</th>\n",
       "      <th>MultipleLines</th>\n",
       "      <th>InternetService</th>\n",
       "      <th>OnlineSecurity</th>\n",
       "      <th>OnlineBackup</th>\n",
       "      <th>DeviceProtection</th>\n",
       "      <th>TechSupport</th>\n",
       "      <th>StreamingTV</th>\n",
       "      <th>StreamingMovies</th>\n",
       "      <th>Contract</th>\n",
       "      <th>PaperlessBilling</th>\n",
       "      <th>PaymentMethod</th>\n",
       "      <th>MonthlyCharges</th>\n",
       "      <th>TotalCharges</th>\n",
       "      <th>Churn</th>\n",
       "    </tr>\n",
       "    <tr>\n",
       "      <th>customerID</th>\n",
       "      <th></th>\n",
       "      <th></th>\n",
       "      <th></th>\n",
       "      <th></th>\n",
       "      <th></th>\n",
       "      <th></th>\n",
       "      <th></th>\n",
       "      <th></th>\n",
       "      <th></th>\n",
       "      <th></th>\n",
       "      <th></th>\n",
       "      <th></th>\n",
       "      <th></th>\n",
       "      <th></th>\n",
       "      <th></th>\n",
       "      <th></th>\n",
       "      <th></th>\n",
       "      <th></th>\n",
       "      <th></th>\n",
       "      <th></th>\n",
       "    </tr>\n",
       "  </thead>\n",
       "  <tbody>\n",
       "    <tr>\n",
       "      <th>7590-VHVEG</th>\n",
       "      <td>Female</td>\n",
       "      <td>0</td>\n",
       "      <td>Yes</td>\n",
       "      <td>No</td>\n",
       "      <td>1</td>\n",
       "      <td>No</td>\n",
       "      <td>No phone service</td>\n",
       "      <td>DSL</td>\n",
       "      <td>No</td>\n",
       "      <td>Yes</td>\n",
       "      <td>No</td>\n",
       "      <td>No</td>\n",
       "      <td>No</td>\n",
       "      <td>No</td>\n",
       "      <td>Month-to-month</td>\n",
       "      <td>Yes</td>\n",
       "      <td>Electronic check</td>\n",
       "      <td>29.85</td>\n",
       "      <td>29.85</td>\n",
       "      <td>No</td>\n",
       "    </tr>\n",
       "    <tr>\n",
       "      <th>5575-GNVDE</th>\n",
       "      <td>Male</td>\n",
       "      <td>0</td>\n",
       "      <td>No</td>\n",
       "      <td>No</td>\n",
       "      <td>34</td>\n",
       "      <td>Yes</td>\n",
       "      <td>No</td>\n",
       "      <td>DSL</td>\n",
       "      <td>Yes</td>\n",
       "      <td>No</td>\n",
       "      <td>Yes</td>\n",
       "      <td>No</td>\n",
       "      <td>No</td>\n",
       "      <td>No</td>\n",
       "      <td>One year</td>\n",
       "      <td>No</td>\n",
       "      <td>Mailed check</td>\n",
       "      <td>56.95</td>\n",
       "      <td>1889.5</td>\n",
       "      <td>No</td>\n",
       "    </tr>\n",
       "    <tr>\n",
       "      <th>3668-QPYBK</th>\n",
       "      <td>Male</td>\n",
       "      <td>0</td>\n",
       "      <td>No</td>\n",
       "      <td>No</td>\n",
       "      <td>2</td>\n",
       "      <td>Yes</td>\n",
       "      <td>No</td>\n",
       "      <td>DSL</td>\n",
       "      <td>Yes</td>\n",
       "      <td>Yes</td>\n",
       "      <td>No</td>\n",
       "      <td>No</td>\n",
       "      <td>No</td>\n",
       "      <td>No</td>\n",
       "      <td>Month-to-month</td>\n",
       "      <td>Yes</td>\n",
       "      <td>Mailed check</td>\n",
       "      <td>53.85</td>\n",
       "      <td>108.15</td>\n",
       "      <td>Yes</td>\n",
       "    </tr>\n",
       "    <tr>\n",
       "      <th>7795-CFOCW</th>\n",
       "      <td>Male</td>\n",
       "      <td>0</td>\n",
       "      <td>No</td>\n",
       "      <td>No</td>\n",
       "      <td>45</td>\n",
       "      <td>No</td>\n",
       "      <td>No phone service</td>\n",
       "      <td>DSL</td>\n",
       "      <td>Yes</td>\n",
       "      <td>No</td>\n",
       "      <td>Yes</td>\n",
       "      <td>Yes</td>\n",
       "      <td>No</td>\n",
       "      <td>No</td>\n",
       "      <td>One year</td>\n",
       "      <td>No</td>\n",
       "      <td>Bank transfer (automatic)</td>\n",
       "      <td>42.30</td>\n",
       "      <td>1840.75</td>\n",
       "      <td>No</td>\n",
       "    </tr>\n",
       "    <tr>\n",
       "      <th>9237-HQITU</th>\n",
       "      <td>Female</td>\n",
       "      <td>0</td>\n",
       "      <td>No</td>\n",
       "      <td>No</td>\n",
       "      <td>2</td>\n",
       "      <td>Yes</td>\n",
       "      <td>No</td>\n",
       "      <td>Fiber optic</td>\n",
       "      <td>No</td>\n",
       "      <td>No</td>\n",
       "      <td>No</td>\n",
       "      <td>No</td>\n",
       "      <td>No</td>\n",
       "      <td>No</td>\n",
       "      <td>Month-to-month</td>\n",
       "      <td>Yes</td>\n",
       "      <td>Electronic check</td>\n",
       "      <td>70.70</td>\n",
       "      <td>151.65</td>\n",
       "      <td>Yes</td>\n",
       "    </tr>\n",
       "  </tbody>\n",
       "</table>\n",
       "</div>"
      ],
      "text/plain": [
       "            gender  SeniorCitizen Partner Dependents  tenure PhoneService  \\\n",
       "customerID                                                                  \n",
       "7590-VHVEG  Female              0     Yes         No       1           No   \n",
       "5575-GNVDE    Male              0      No         No      34          Yes   \n",
       "3668-QPYBK    Male              0      No         No       2          Yes   \n",
       "7795-CFOCW    Male              0      No         No      45           No   \n",
       "9237-HQITU  Female              0      No         No       2          Yes   \n",
       "\n",
       "               MultipleLines InternetService OnlineSecurity OnlineBackup  \\\n",
       "customerID                                                                 \n",
       "7590-VHVEG  No phone service             DSL             No          Yes   \n",
       "5575-GNVDE                No             DSL            Yes           No   \n",
       "3668-QPYBK                No             DSL            Yes          Yes   \n",
       "7795-CFOCW  No phone service             DSL            Yes           No   \n",
       "9237-HQITU                No     Fiber optic             No           No   \n",
       "\n",
       "           DeviceProtection TechSupport StreamingTV StreamingMovies  \\\n",
       "customerID                                                            \n",
       "7590-VHVEG               No          No          No              No   \n",
       "5575-GNVDE              Yes          No          No              No   \n",
       "3668-QPYBK               No          No          No              No   \n",
       "7795-CFOCW              Yes         Yes          No              No   \n",
       "9237-HQITU               No          No          No              No   \n",
       "\n",
       "                  Contract PaperlessBilling              PaymentMethod  \\\n",
       "customerID                                                               \n",
       "7590-VHVEG  Month-to-month              Yes           Electronic check   \n",
       "5575-GNVDE        One year               No               Mailed check   \n",
       "3668-QPYBK  Month-to-month              Yes               Mailed check   \n",
       "7795-CFOCW        One year               No  Bank transfer (automatic)   \n",
       "9237-HQITU  Month-to-month              Yes           Electronic check   \n",
       "\n",
       "            MonthlyCharges TotalCharges Churn  \n",
       "customerID                                     \n",
       "7590-VHVEG           29.85        29.85    No  \n",
       "5575-GNVDE           56.95       1889.5    No  \n",
       "3668-QPYBK           53.85       108.15   Yes  \n",
       "7795-CFOCW           42.30      1840.75    No  \n",
       "9237-HQITU           70.70       151.65   Yes  "
      ]
     },
     "execution_count": 2,
     "metadata": {},
     "output_type": "execute_result"
    }
   ],
   "source": [
    "customer =  pd.read_csv('WA_Fn-UseC_-Telco-Customer-Churn.csv',index_col = 0)\n",
    "customer.head()"
   ]
  },
  {
   "cell_type": "markdown",
   "metadata": {},
   "source": [
    "Target Variable: ChurnWhether the customer churned or not (Yes or No)"
   ]
  },
  {
   "cell_type": "markdown",
   "metadata": {},
   "source": [
    "**Feature Engineering**"
   ]
  },
  {
   "cell_type": "markdown",
   "metadata": {},
   "source": [
    "Covert variable 'TotalCharges' to numeric, change variable 'SeniorCitizen' to object"
   ]
  },
  {
   "cell_type": "code",
   "execution_count": 3,
   "metadata": {},
   "outputs": [],
   "source": [
    "customer['TotalCharges'] = pd.to_numeric(customer.TotalCharges,\n",
    "                                         errors='coerce')\n",
    "\n",
    "customer['SeniorCitizen'] = customer['SeniorCitizen'].astype('object')"
   ]
  },
  {
   "cell_type": "code",
   "execution_count": 4,
   "metadata": {},
   "outputs": [
    {
     "data": {
      "text/plain": [
       "No     5174\n",
       "Yes    1869\n",
       "Name: Churn, dtype: int64"
      ]
     },
     "execution_count": 4,
     "metadata": {},
     "output_type": "execute_result"
    }
   ],
   "source": [
    "customer['Churn'].value_counts()"
   ]
  },
  {
   "cell_type": "markdown",
   "metadata": {},
   "source": [
    "## 2.1 \n",
    "Visualize the univariate distribution of each continuous feature, and the distribution of the\n",
    "target."
   ]
  },
  {
   "cell_type": "code",
   "execution_count": 5,
   "metadata": {},
   "outputs": [
    {
     "data": {
      "image/png": "[encoded data removed]",
      "text/plain": [
       "<Figure size 720x720 with 4 Axes>"
      ]
     },
     "metadata": {
      "needs_background": "light"
     },
     "output_type": "display_data"
    }
   ],
   "source": [
    "fig, ax = plt.subplots(2, 2 ,figsize=(10,10))\n",
    "\n",
    "ax[0,0].hist(customer['tenure'])\n",
    "ax[0,0].set_title('tenure')\n",
    "ax[0,0].set_ylabel('Frequency')\n",
    "\n",
    "ax[0,1].hist(customer['MonthlyCharges'])\n",
    "ax[0,1].set_title('MonthlyCharges')\n",
    "\n",
    "ax[1,0].hist(customer['TotalCharges'])\n",
    "ax[1,0].set_title('TotalCharges')\n",
    "ax[1,0].set_ylabel('Frequency')\n",
    "\n",
    "ax[1,1].bar(['Yes','No'], [5174,1869])\n",
    "ax[1,1].set_title('Churn')\n",
    "\n",
    "plt.show()"
   ]
  },
  {
   "cell_type": "markdown",
   "metadata": {},
   "source": [
    "## 2.2"
   ]
  },
  {
   "cell_type": "markdown",
   "metadata": {},
   "source": [
    "Split data into training and test set. Build a pipeline for dealing with categorical variables. Evaluate Logistic Regression, linear support vector machines and nearest centroids usingcross-validation. Compare results. Scaling the continuous features withStandardScaler and compare the results"
   ]
  },
  {
   "cell_type": "code",
   "execution_count": 6,
   "metadata": {},
   "outputs": [],
   "source": [
    "from sklearn.model_selection import train_test_split\n",
    "from sklearn.model_selection import cross_validate\n",
    "from sklearn.linear_model import LinearRegression\n",
    "from sklearn.model_selection import cross_val_score\n",
    "from sklearn.linear_model import LogisticRegression\n",
    "from sklearn.compose import make_column_transformer\n",
    "from sklearn.preprocessing import OneHotEncoder\n",
    "from sklearn.impute import SimpleImputer\n",
    "from sklearn.pipeline import make_pipeline \n",
    "from sklearn.svm import SVC\n",
    "from sklearn.neighbors import NearestCentroid\n",
    "from sklearn.pipeline import Pipeline\n",
    "from sklearn.preprocessing import StandardScaler\n",
    "from sklearn.compose import ColumnTransformer\n",
    "from sklearn.svm import LinearSVC"
   ]
  },
  {
   "cell_type": "code",
   "execution_count": 7,
   "metadata": {},
   "outputs": [],
   "source": [
    "X = customer.iloc[:, :-1]\n",
    "y = customer['Churn']\n",
    "X_train, X_test, y_train, y_test = train_test_split(X, y, random_state=0)"
   ]
  },
  {
   "cell_type": "markdown",
   "metadata": {},
   "source": [
    "Find Categorical Variables"
   ]
  },
  {
   "cell_type": "code",
   "execution_count": 8,
   "metadata": {},
   "outputs": [],
   "source": [
    "categorical = X_train.dtypes == object"
   ]
  },
  {
   "cell_type": "markdown",
   "metadata": {},
   "source": [
    "### Scenario 1: without scaling continuous variable"
   ]
  },
  {
   "cell_type": "markdown",
   "metadata": {},
   "source": [
    "Make a column tranformer to do One Hot Encoding and impute missing values."
   ]
  },
  {
   "cell_type": "code",
   "execution_count": 9,
   "metadata": {},
   "outputs": [],
   "source": [
    "preprocess_OHE_impute = make_column_transformer(\n",
    "        (OneHotEncoder(handle_unknown='ignore'), categorical),\n",
    "        (SimpleImputer(strategy='median'), ~categorical))"
   ]
  },
  {
   "cell_type": "code",
   "execution_count": 10,
   "metadata": {},
   "outputs": [],
   "source": [
    "def columntransform_pipe(preprocess, model):\n",
    "    \"\"\"\n",
    "    Return two dictionary contains cross validation score for models after \n",
    "    building a pipeline called 'preprocess'.\n",
    "    preprocess: a ColumnTransformer constructed before\n",
    "    model: a list of models that will be tested for, such as LinearRegression().\n",
    "    \"\"\"\n",
    "    model_dict_median = {}\n",
    "    model_dict_mean={}\n",
    "    R2_list_median = []\n",
    "    for item in model:\n",
    "        pipe = make_pipeline(preprocess, item)\n",
    "        pipe.fit(X_train, y_train)\n",
    "        score = cross_val_score(pipe, X_train, y_train)\n",
    "        score_median = np.round(np.median(score),5)\n",
    "        score_mean = np.round(np.mean(score),5)\n",
    "        model_dict_median[item] = score_median\n",
    "        model_dict_mean[item] = score_mean\n",
    "        R2_list_median.append(score_median)\n",
    "    return model_dict_median, model_dict_mean, R2_list_median\n",
    "\n",
    "def tidy_output(model_list, R2_list):\n",
    "    R2_dict = {}\n",
    "    i=0\n",
    "    for item in model_list:\n",
    "        R2_dict[item]=R2_list[i]\n",
    "        i+=1\n",
    "    return R2_dict"
   ]
  },
  {
   "cell_type": "code",
   "execution_count": 11,
   "metadata": {},
   "outputs": [
    {
     "data": {
      "text/plain": [
       "{LogisticRegression(C=1.0, class_weight=None, dual=False, fit_intercept=True,\n",
       "           intercept_scaling=1, max_iter=100, multi_class='warn',\n",
       "           n_jobs=None, penalty='l2', random_state=None, solver='warn',\n",
       "           tol=0.0001, verbose=0, warm_start=False): 0.80057,\n",
       " LinearSVC(C=1.0, class_weight=None, dual=True, fit_intercept=True,\n",
       "      intercept_scaling=1, loss='squared_hinge', max_iter=1000,\n",
       "      multi_class='ovr', penalty='l2', random_state=None, tol=0.0001,\n",
       "      verbose=0): 0.59205,\n",
       " NearestCentroid(metric='euclidean', shrink_threshold=None): 0.5233}"
      ]
     },
     "execution_count": 11,
     "metadata": {},
     "output_type": "execute_result"
    }
   ],
   "source": [
    "model_list = [LogisticRegression(), LinearSVC(), NearestCentroid()]\n",
    "dict_median, dict_mean, R2_list_median = columntransform_pipe(preprocess_OHE_impute,\n",
    "                                              model_list)\n",
    "dict_median"
   ]
  },
  {
   "cell_type": "markdown",
   "metadata": {},
   "source": [
    "Print R square for each model with default parameters."
   ]
  },
  {
   "cell_type": "code",
   "execution_count": 12,
   "metadata": {},
   "outputs": [
    {
     "data": {
      "text/plain": [
       "{'LogisticRegression': 0.80057,\n",
       " 'LinearSVC': 0.59205,\n",
       " 'NearestCentroid': 0.5233}"
      ]
     },
     "execution_count": 12,
     "metadata": {},
     "output_type": "execute_result"
    }
   ],
   "source": [
    "model_name = ['LogisticRegression', 'LinearSVC', 'NearestCentroid']\n",
    "tidy_output(model_name, R2_list_median)"
   ]
  },
  {
   "cell_type": "markdown",
   "metadata": {},
   "source": [
    "\n",
    "### Scenario 2: with scaling continuous variable"
   ]
  },
  {
   "cell_type": "code",
   "execution_count": 13,
   "metadata": {},
   "outputs": [],
   "source": [
    "cont_transformer = Pipeline(steps=[('imputer', SimpleImputer(strategy='median')),\n",
    "                                    ('scaler', StandardScaler())])\n",
    "preprocess_onehot_impute_sd = ColumnTransformer(\n",
    "    [(\"cat\", OneHotEncoder(handle_unknown='ignore'),categorical),\n",
    "     (\"norm\", cont_transformer,  ~categorical)])  "
   ]
  },
  {
   "cell_type": "code",
   "execution_count": 14,
   "metadata": {},
   "outputs": [
    {
     "data": {
      "text/plain": [
       "{LogisticRegression(C=1.0, class_weight=None, dual=False, fit_intercept=True,\n",
       "           intercept_scaling=1, max_iter=100, multi_class='warn',\n",
       "           n_jobs=None, penalty='l2', random_state=None, solver='warn',\n",
       "           tol=0.0001, verbose=0, warm_start=False): 0.80227,\n",
       " LinearSVC(C=1.0, class_weight=None, dual=True, fit_intercept=True,\n",
       "      intercept_scaling=1, loss='squared_hinge', max_iter=1000,\n",
       "      multi_class='ovr', penalty='l2', random_state=None, tol=0.0001,\n",
       "      verbose=0): 0.80341,\n",
       " NearestCentroid(metric='euclidean', shrink_threshold=None): 0.74489}"
      ]
     },
     "execution_count": 14,
     "metadata": {},
     "output_type": "execute_result"
    }
   ],
   "source": [
    "model_list = [LogisticRegression(), LinearSVC(),NearestCentroid()]\n",
    "dict_median, dict_mean,R2_list_median_2 = columntransform_pipe(\n",
    "    preprocess_onehot_impute_sd, model_list)\n",
    "dict_median"
   ]
  },
  {
   "cell_type": "code",
   "execution_count": 15,
   "metadata": {},
   "outputs": [
    {
     "data": {
      "text/plain": [
       "{'LogisticRegression': 0.80227,\n",
       " 'LinearSVC': 0.80341,\n",
       " 'NearestCentroid': 0.74489}"
      ]
     },
     "execution_count": 15,
     "metadata": {},
     "output_type": "execute_result"
    }
   ],
   "source": [
    "model_name = ['LogisticRegression', 'LinearSVC', 'NearestCentroid']\n",
    "tidy_output(model_name, R2_list_median_2)"
   ]
  },
  {
   "cell_type": "markdown",
   "metadata": {},
   "source": [
    "#### Explanation:\n",
    "Before scaling,NearestCentroid's score is significantly lower than Logistic Regression and Linear SVM's scores.\n",
    "\n",
    "After scaling continuous variables, the score of Nearest Centroid improves significantly, increased from 0.523 to 0.745. Linear SVC's score also improves a bit, improved to around 0.8. The scores of Logistic Regression doesn't change significantly. Thus, we may conclude that scaling is very important for Nearest Centroid while not very important to Logistic regression."
   ]
  },
  {
   "cell_type": "markdown",
   "metadata": {},
   "source": [
    "## 2.3 \n",
    "Tune the parameters using GridSearchCV. Do the results improve?\n",
    "Visualize the performance as function of the parameters for all three models"
   ]
  },
  {
   "cell_type": "code",
   "execution_count": 16,
   "metadata": {},
   "outputs": [],
   "source": [
    "from sklearn.model_selection import GridSearchCV"
   ]
  },
  {
   "cell_type": "markdown",
   "metadata": {},
   "source": [
    "### Tune parameters for logistic regression"
   ]
  },
  {
   "cell_type": "code",
   "execution_count": 17,
   "metadata": {},
   "outputs": [
    {
     "name": "stdout",
     "output_type": "stream",
     "text": [
      "{'logisticregression__C': 0.01}\n"
     ]
    }
   ],
   "source": [
    "#preprocess_onehot_impute_sd is a column transformer constructed in 2.2, did OHE on categorical and standardize continuous variable\n",
    "#preprocess_onehot_impute_sd.fit_transform(X_train)\n",
    "logistic_pipe = make_pipeline(preprocess_onehot_impute_sd, \n",
    "                              LogisticRegression())\n",
    "param_grid = {'logisticregression__C': \n",
    "              [0.001, 0.01, 0.1, 1, 10, 100]} \n",
    "#careful: there are multiple steps in pipeline, so use logisticregression__C\n",
    "logistic_grid = GridSearchCV(logistic_pipe, param_grid)\n",
    "logistic_grid.fit(X_train, y_train)\n",
    "logparam_2_5 = logistic_grid.best_params_\n",
    "print(logistic_grid.best_params_)"
   ]
  },
  {
   "cell_type": "code",
   "execution_count": 18,
   "metadata": {},
   "outputs": [
    {
     "name": "stdout",
     "output_type": "stream",
     "text": [
      "0.8053767512305945\n"
     ]
    }
   ],
   "source": [
    "print(logistic_grid.best_score_)"
   ]
  },
  {
   "cell_type": "code",
   "execution_count": 19,
   "metadata": {},
   "outputs": [
    {
     "data": {
      "image/png": "[encoded data removed]",
      "text/plain": [
       "<Figure size 576x360 with 1 Axes>"
      ]
     },
     "metadata": {
      "needs_background": "light"
     },
     "output_type": "display_data"
    }
   ],
   "source": [
    "#get lists of mean_train_score and mean_test_score\n",
    "param_list = [0.001, 0.01, 0.1, 1, 10, 100]\n",
    "logistic_mean_train_score = logistic_grid.cv_results_[\n",
    "    'mean_train_score']\n",
    "logistic_mean_test_score = logistic_grid.cv_results_[\n",
    "    'mean_test_score']\n",
    "\n",
    "#Plot graph\n",
    "fig= plt.figure(figsize=(8,5))\n",
    "plt.plot(param_list, logistic_mean_train_score, \n",
    "         label = 'mean_train_score')\n",
    "plt.plot(param_list, logistic_mean_test_score, \n",
    "         label = 'mean_test_score')\n",
    "plt.legend()\n",
    "plt.xlabel('C')\n",
    "plt.ylabel('score')\n",
    "plt.title('Logistic Regression Scores by Parametres (C)')\n",
    "plt.show()"
   ]
  },
  {
   "cell_type": "markdown",
   "metadata": {},
   "source": [
    "### Tune parameter for Linear SVM"
   ]
  },
  {
   "cell_type": "code",
   "execution_count": 20,
   "metadata": {},
   "outputs": [
    {
     "name": "stdout",
     "output_type": "stream",
     "text": [
      "{'linearsvc__C': 0.001}\n"
     ]
    }
   ],
   "source": [
    "SVC_pipe = make_pipeline(preprocess_onehot_impute_sd, \n",
    "                              LinearSVC())\n",
    "param_grid = {'linearsvc__C': [0.001, 0.01, 0.1, 1, 10, 100]} \n",
    "#C: Penalty parameter C of the error term.\n",
    "SVC_grid = GridSearchCV(SVC_pipe, param_grid)\n",
    "SVC_grid.fit(X_train, y_train)\n",
    "svcpapram_2_5 = SVC_grid.best_params_\n",
    "print(SVC_grid.best_params_)"
   ]
  },
  {
   "cell_type": "code",
   "execution_count": 21,
   "metadata": {},
   "outputs": [
    {
     "name": "stdout",
     "output_type": "stream",
     "text": [
      "0.8044301400984476\n"
     ]
    }
   ],
   "source": [
    "print(SVC_grid.best_score_)"
   ]
  },
  {
   "cell_type": "code",
   "execution_count": 22,
   "metadata": {},
   "outputs": [
    {
     "data": {
      "image/png": "[encoded data removed]",
      "text/plain": [
       "<Figure size 576x360 with 1 Axes>"
      ]
     },
     "metadata": {
      "needs_background": "light"
     },
     "output_type": "display_data"
    }
   ],
   "source": [
    "#get lists of mean_train_score and mean_test_score\n",
    "param_list = [0.001, 0.01, 0.1, 1, 10, 100]\n",
    "svc_mean_train_score = SVC_grid.cv_results_['mean_train_score']\n",
    "svc_mean_test_score = SVC_grid.cv_results_['mean_test_score']\n",
    "\n",
    "#Plot graph\n",
    "fig= plt.figure(figsize=(8,5))\n",
    "plt.plot(param_list, svc_mean_train_score, label = 'mean_train_score')\n",
    "plt.plot(param_list, svc_mean_test_score, label = 'mean_test_score')\n",
    "plt.legend()\n",
    "plt.xlabel('C')\n",
    "plt.ylabel('score')\n",
    "plt.title('Linear SVC Scores by Parametres (C)')\n",
    "plt.show()"
   ]
  },
  {
   "cell_type": "markdown",
   "metadata": {},
   "source": [
    "### Tune parameter for Nearest Centroid"
   ]
  },
  {
   "cell_type": "code",
   "execution_count": 23,
   "metadata": {},
   "outputs": [
    {
     "name": "stdout",
     "output_type": "stream",
     "text": [
      "{'nearestcentroid__shrink_threshold': 0.001}\n"
     ]
    }
   ],
   "source": [
    "nearestcentroid_pipe = make_pipeline(preprocess_onehot_impute_sd, \n",
    "                              NearestCentroid())\n",
    "param_grid = {'nearestcentroid__shrink_threshold': \n",
    "              [0.001, 0.01, 0.1, 1, 10, 100]} \n",
    "nearestcentroid_grid = GridSearchCV(nearestcentroid_pipe, param_grid)\n",
    "nearestcentroid_grid.fit(X_train, y_train)\n",
    "print(nearestcentroid_grid.best_params_)"
   ]
  },
  {
   "cell_type": "code",
   "execution_count": 24,
   "metadata": {},
   "outputs": [
    {
     "name": "stdout",
     "output_type": "stream",
     "text": [
      "0.7396819386595986\n"
     ]
    }
   ],
   "source": [
    "print(nearestcentroid_grid.best_score_)"
   ]
  },
  {
   "cell_type": "code",
   "execution_count": 25,
   "metadata": {},
   "outputs": [
    {
     "data": {
      "image/png": "[encoded data removed]",
      "text/plain": [
       "<Figure size 576x360 with 1 Axes>"
      ]
     },
     "metadata": {
      "needs_background": "light"
     },
     "output_type": "display_data"
    }
   ],
   "source": [
    "#get lists of mean_train_score and mean_test_score\n",
    "param_list = [0.001, 0.01, 0.1, 1, 10, 100]\n",
    "nc_mean_train_score = nearestcentroid_grid.cv_results_['mean_train_score']\n",
    "nc_mean_test_score = nearestcentroid_grid.cv_results_['mean_test_score']\n",
    "\n",
    "#Plot graph\n",
    "fig= plt.figure(figsize=(8,5))\n",
    "plt.plot(param_list, nc_mean_train_score, label = 'mean_train_score')\n",
    "plt.plot(param_list, nc_mean_test_score, label = 'mean_test_score')\n",
    "plt.legend()\n",
    "plt.xlabel('shrink_threshold')\n",
    "plt.ylabel('score')\n",
    "plt.title('Nearest Centroid Scores by Parametres (shrink_threshold)')\n",
    "plt.show()"
   ]
  },
  {
   "cell_type": "markdown",
   "metadata": {},
   "source": [
    "For the Nearest Centroid model, mean_train_score and mean_test_score overlap."
   ]
  },
  {
   "cell_type": "markdown",
   "metadata": {},
   "source": [
    "### Explanation: \n",
    "Compare with default parameters in previous section(section 2.2), R square score doesn't impove significantly after tuning parameters using GridSearchCV."
   ]
  },
  {
   "cell_type": "markdown",
   "metadata": {},
   "source": [
    "## 2.4\n",
    "Change the cross-validation strategy from ‘stratified k-fold’ to ‘kfold’ with shuffling. Do the\n",
    "parameters that are found change? Do they change if you change the random seed of the\n",
    "shuffling? Or if you change the random state of the split into training and test data?"
   ]
  },
  {
   "cell_type": "code",
   "execution_count": 26,
   "metadata": {},
   "outputs": [],
   "source": [
    "from sklearn.model_selection import KFold"
   ]
  },
  {
   "cell_type": "markdown",
   "metadata": {},
   "source": [
    "### With Shuffling"
   ]
  },
  {
   "cell_type": "markdown",
   "metadata": {},
   "source": [
    "#### Logistic Regression with shuffling"
   ]
  },
  {
   "cell_type": "code",
   "execution_count": 27,
   "metadata": {},
   "outputs": [
    {
     "name": "stdout",
     "output_type": "stream",
     "text": [
      "{'logisticregression__C': 100}\n"
     ]
    }
   ],
   "source": [
    "logistic_pipe = make_pipeline(preprocess_onehot_impute_sd, \n",
    "                              LogisticRegression())\n",
    "param_grid = {'logisticregression__C': [0.001, 0.01, 0.1, 1, 10, 100]} #careful: there are multiple steps in pipeline, so use logisticregression__C\n",
    "logistic_grid = GridSearchCV(logistic_pipe, param_grid,\n",
    "                             cv=KFold(shuffle=True))\n",
    "logistic_grid.fit(X_train, y_train)\n",
    "print(logistic_grid.best_params_)"
   ]
  },
  {
   "cell_type": "code",
   "execution_count": 28,
   "metadata": {},
   "outputs": [
    {
     "name": "stdout",
     "output_type": "stream",
     "text": [
      "0.8040514956455888\n"
     ]
    }
   ],
   "source": [
    "print(logistic_grid.best_score_)"
   ]
  },
  {
   "cell_type": "markdown",
   "metadata": {},
   "source": [
    "#### Linear SVC with shuffling"
   ]
  },
  {
   "cell_type": "code",
   "execution_count": 29,
   "metadata": {},
   "outputs": [
    {
     "name": "stdout",
     "output_type": "stream",
     "text": [
      "{'linearsvc__C': 0.001}\n"
     ]
    }
   ],
   "source": [
    "SVC_pipe = make_pipeline(preprocess_onehot_impute_sd, \n",
    "                              LinearSVC())\n",
    "param_grid = {'linearsvc__C': [0.001, 0.01, 0.1, 1, 10, 100]} \n",
    "#C: Penalty parameter C of the error term.\n",
    "SVC_grid = GridSearchCV(SVC_pipe, param_grid, cv=KFold(shuffle=True))\n",
    "SVC_grid.fit(X_train, y_train)\n",
    "print(SVC_grid.best_params_)"
   ]
  },
  {
   "cell_type": "code",
   "execution_count": 30,
   "metadata": {},
   "outputs": [
    {
     "name": "stdout",
     "output_type": "stream",
     "text": [
      "0.8044301400984476\n"
     ]
    }
   ],
   "source": [
    "print(SVC_grid.best_score_)"
   ]
  },
  {
   "cell_type": "markdown",
   "metadata": {},
   "source": [
    "#### Nearest Centroid with shuffling"
   ]
  },
  {
   "cell_type": "code",
   "execution_count": 31,
   "metadata": {},
   "outputs": [
    {
     "name": "stdout",
     "output_type": "stream",
     "text": [
      "{'nearestcentroid__shrink_threshold': 0.001}\n"
     ]
    }
   ],
   "source": [
    "nearestcentroid_pipe = make_pipeline(preprocess_onehot_impute_sd, \n",
    "                              NearestCentroid())\n",
    "param_grid = {'nearestcentroid__shrink_threshold': \n",
    "              [0.001, 0.01, 0.1, 1, 10, 100]} \n",
    "nearestcentroid_grid = GridSearchCV(nearestcentroid_pipe, param_grid, \n",
    "                                    cv=KFold(shuffle=True))\n",
    "nearestcentroid_grid.fit(X_train, y_train)\n",
    "print(nearestcentroid_grid.best_params_)"
   ]
  },
  {
   "cell_type": "code",
   "execution_count": 32,
   "metadata": {},
   "outputs": [
    {
     "name": "stdout",
     "output_type": "stream",
     "text": [
      "0.7394926164331692\n"
     ]
    }
   ],
   "source": [
    "print(nearestcentroid_grid.best_score_)"
   ]
  },
  {
   "cell_type": "markdown",
   "metadata": {},
   "source": [
    "### Change random seed of shuffing"
   ]
  },
  {
   "cell_type": "markdown",
   "metadata": {},
   "source": [
    "#### logistic regression (random state = 666)"
   ]
  },
  {
   "cell_type": "code",
   "execution_count": 33,
   "metadata": {},
   "outputs": [
    {
     "name": "stdout",
     "output_type": "stream",
     "text": [
      "{'logisticregression__C': 10}\n"
     ]
    }
   ],
   "source": [
    "logistic_pipe_2 = make_pipeline(preprocess_onehot_impute_sd, \n",
    "                              LogisticRegression())\n",
    "param_grid = {'logisticregression__C': [0.001, 0.01, 0.1, 1, 10, 100]} \n",
    "logistic_grid_2 = GridSearchCV(logistic_pipe_2, param_grid,\n",
    "                               cv=KFold(shuffle=True, random_state = 666))\n",
    "logistic_grid_2.fit(X_train, y_train)\n",
    "print(logistic_grid_2.best_params_)"
   ]
  },
  {
   "cell_type": "code",
   "execution_count": 34,
   "metadata": {},
   "outputs": [
    {
     "name": "stdout",
     "output_type": "stream",
     "text": [
      "0.8074592957213177\n"
     ]
    }
   ],
   "source": [
    "print(logistic_grid_2.best_score_)"
   ]
  },
  {
   "cell_type": "markdown",
   "metadata": {},
   "source": [
    "#### Linear SVM (random state = 666)"
   ]
  },
  {
   "cell_type": "code",
   "execution_count": 35,
   "metadata": {},
   "outputs": [
    {
     "name": "stdout",
     "output_type": "stream",
     "text": [
      "{'linearsvc__C': 0.001}\n"
     ]
    }
   ],
   "source": [
    "SVC_pipe_2 = make_pipeline(preprocess_onehot_impute_sd, \n",
    "                              LinearSVC())\n",
    "param_grid = {'linearsvc__C': [0.001, 0.01, 0.1, 1, 10, 100]} \n",
    "#C: Penalty parameter C of the error term.\n",
    "SVC_grid_2 = GridSearchCV(SVC_pipe_2, param_grid, \n",
    "                          cv=KFold(shuffle=True, random_state = 666))\n",
    "SVC_grid_2.fit(X_train, y_train)\n",
    "print(SVC_grid_2.best_params_)"
   ]
  },
  {
   "cell_type": "code",
   "execution_count": 36,
   "metadata": {},
   "outputs": [
    {
     "name": "stdout",
     "output_type": "stream",
     "text": [
      "0.8046194623248769\n"
     ]
    }
   ],
   "source": [
    "print(SVC_grid_2.best_score_)"
   ]
  },
  {
   "cell_type": "markdown",
   "metadata": {},
   "source": [
    "#### Nearest Centroid (random state = 666)"
   ]
  },
  {
   "cell_type": "code",
   "execution_count": 37,
   "metadata": {},
   "outputs": [
    {
     "name": "stdout",
     "output_type": "stream",
     "text": [
      "{'nearestcentroid__shrink_threshold': 0.001}\n"
     ]
    }
   ],
   "source": [
    "nearestcentroid_pipe_2 = make_pipeline(preprocess_onehot_impute_sd, \n",
    "                              NearestCentroid())\n",
    "param_grid = {'nearestcentroid__shrink_threshold': [0.001, 0.01, 0.1, 1, 10, 100]} \n",
    "nearestcentroid_grid_2 = GridSearchCV(nearestcentroid_pipe_2, param_grid, \n",
    "                                      cv=KFold(shuffle=True, random_state = 666))\n",
    "nearestcentroid_grid_2.fit(X_train, y_train)\n",
    "print(nearestcentroid_grid_2.best_params_)"
   ]
  },
  {
   "cell_type": "code",
   "execution_count": 38,
   "metadata": {},
   "outputs": [
    {
     "name": "stdout",
     "output_type": "stream",
     "text": [
      "0.7400605831124574\n"
     ]
    }
   ],
   "source": [
    "print(nearestcentroid_grid_2.best_score_)"
   ]
  },
  {
   "cell_type": "markdown",
   "metadata": {},
   "source": [
    "### Change random state of test train split"
   ]
  },
  {
   "cell_type": "code",
   "execution_count": 39,
   "metadata": {},
   "outputs": [],
   "source": [
    "X_train_new, X_test_new, y_train_new, y_test_new = train_test_split(X, y, random_state=666)"
   ]
  },
  {
   "cell_type": "markdown",
   "metadata": {},
   "source": [
    "#### Logistic Regression"
   ]
  },
  {
   "cell_type": "code",
   "execution_count": 40,
   "metadata": {},
   "outputs": [
    {
     "name": "stdout",
     "output_type": "stream",
     "text": [
      "{'logisticregression__C': 0.01}\n"
     ]
    }
   ],
   "source": [
    "logistic_pipe_3 = make_pipeline(preprocess_onehot_impute_sd, \n",
    "                              LogisticRegression())\n",
    "param_grid = {'logisticregression__C': [0.001, 0.01, 0.1, 1, 10, 100]} \n",
    "logistic_grid_3 = GridSearchCV(logistic_pipe_3, param_grid,cv=KFold(shuffle=True))\n",
    "logistic_grid_3.fit(X_train_new, y_train_new)\n",
    "print(logistic_grid_3.best_params_)"
   ]
  },
  {
   "cell_type": "code",
   "execution_count": 41,
   "metadata": {},
   "outputs": [
    {
     "name": "stdout",
     "output_type": "stream",
     "text": [
      "0.8072699734948883\n"
     ]
    }
   ],
   "source": [
    "print(logistic_grid_3.best_score_)"
   ]
  },
  {
   "cell_type": "markdown",
   "metadata": {},
   "source": [
    "#### Linear SVM"
   ]
  },
  {
   "cell_type": "code",
   "execution_count": 42,
   "metadata": {},
   "outputs": [
    {
     "name": "stdout",
     "output_type": "stream",
     "text": [
      "{'linearsvc__C': 10}\n"
     ]
    }
   ],
   "source": [
    "SVC_pipe_3 = make_pipeline(preprocess_onehot_impute_sd, \n",
    "                              LinearSVC())\n",
    "param_grid = {'linearsvc__C': [0.001, 0.01, 0.1, 1, 10, 100]} \n",
    "#C: Penalty parameter C of the error term.\n",
    "SVC_grid_3 = GridSearchCV(SVC_pipe_3, param_grid, cv=KFold(shuffle=True))\n",
    "SVC_grid_3.fit(X_train_new, y_train_new)\n",
    "print(SVC_grid_3.best_params_)"
   ]
  },
  {
   "cell_type": "code",
   "execution_count": 43,
   "metadata": {},
   "outputs": [
    {
     "name": "stdout",
     "output_type": "stream",
     "text": [
      "0.8072699734948883\n"
     ]
    }
   ],
   "source": [
    "print(SVC_grid_3.best_score_)"
   ]
  },
  {
   "cell_type": "markdown",
   "metadata": {},
   "source": [
    "#### Nearest Centroid"
   ]
  },
  {
   "cell_type": "code",
   "execution_count": 44,
   "metadata": {},
   "outputs": [
    {
     "name": "stdout",
     "output_type": "stream",
     "text": [
      "{'nearestcentroid__shrink_threshold': 100}\n"
     ]
    }
   ],
   "source": [
    "nearestcentroid_pipe_3 = make_pipeline(preprocess_onehot_impute_sd, \n",
    "                              NearestCentroid())\n",
    "param_grid = {'nearestcentroid__shrink_threshold': \n",
    "              [0.001, 0.01, 0.1, 1, 10, 100]} \n",
    "nearestcentroid_grid_3 = GridSearchCV(nearestcentroid_pipe_3, param_grid, \n",
    "                                      cv=KFold(shuffle=True))\n",
    "nearestcentroid_grid_3.fit(X_train_new, y_train_new)\n",
    "print(nearestcentroid_grid_3.best_params_)"
   ]
  },
  {
   "cell_type": "code",
   "execution_count": 45,
   "metadata": {},
   "outputs": [
    {
     "name": "stdout",
     "output_type": "stream",
     "text": [
      "0.7389246497538811\n"
     ]
    }
   ],
   "source": [
    "print(nearestcentroid_grid_3.best_score_)"
   ]
  },
  {
   "cell_type": "markdown",
   "metadata": {},
   "source": [
    "### Explanation:\n",
    "\n",
    "For all three models, parameters may change when shuffling strategy is used during cross validation, when random seed of shuffling is changed, or when random state of test train split is changed. However, R square scores do not change significantly and are approximately same when parameteres change."
   ]
  },
  {
   "cell_type": "markdown",
   "metadata": {},
   "source": [
    "## 2.5 \n",
    "Visualize the coefficients for LogisticRegression and Linear Support Vector Machines using\n",
    "hyper-parameters that performed well in the grid-search."
   ]
  },
  {
   "cell_type": "markdown",
   "metadata": {},
   "source": [
    "Use parameter selected in section 2.3"
   ]
  },
  {
   "cell_type": "code",
   "execution_count": 46,
   "metadata": {},
   "outputs": [
    {
     "name": "stdout",
     "output_type": "stream",
     "text": [
      "0.01\n"
     ]
    }
   ],
   "source": [
    "logparam = logparam_2_5['logisticregression__C']\n",
    "print(logparam)"
   ]
  },
  {
   "cell_type": "code",
   "execution_count": 47,
   "metadata": {},
   "outputs": [
    {
     "name": "stdout",
     "output_type": "stream",
     "text": [
      "0.001\n"
     ]
    }
   ],
   "source": [
    "svcparam = svcpapram_2_5['linearsvc__C']\n",
    "print(svcparam)\n"
   ]
  },
  {
   "cell_type": "markdown",
   "metadata": {},
   "source": [
    "### Plot coefficients for logistic regression"
   ]
  },
  {
   "cell_type": "code",
   "execution_count": 48,
   "metadata": {},
   "outputs": [],
   "source": [
    "logstic_pipe = Pipeline(steps=[('ohe_sd', preprocess_onehot_impute_sd),\n",
    "                           ('logistic', LogisticRegression(C = logparam))])\n",
    "logstic_pipe.fit(X_train,y_train)\n",
    "logistic_coef = logstic_pipe.named_steps['logistic'].coef_"
   ]
  },
  {
   "cell_type": "code",
   "execution_count": 49,
   "metadata": {},
   "outputs": [
    {
     "data": {
      "text/plain": [
       "Text(0.5, 1.0, 'Coefficients of Logistic Regression')"
      ]
     },
     "execution_count": 49,
     "metadata": {},
     "output_type": "execute_result"
    },
    {
     "data": {
      "image/png": "[encoded data removed]",
      "text/plain": [
       "<Figure size 864x360 with 1 Axes>"
      ]
     },
     "metadata": {
      "needs_background": "light"
     },
     "output_type": "display_data"
    }
   ],
   "source": [
    "fig= plt.figure(figsize=(12,5))\n",
    "plt.scatter(range(logistic_coef.shape[1]), logistic_coef,\n",
    "            c=np.sign(logistic_coef), cmap=\"bwr_r\")\n",
    "plt.title('Coefficients of Logistic Regression')"
   ]
  },
  {
   "cell_type": "markdown",
   "metadata": {},
   "source": [
    "First, in order to match coefficients with feature name, get a list called 'all_features_lst' that contain all feature names in the order which corresponds to coefficient order."
   ]
  },
  {
   "cell_type": "code",
   "execution_count": 50,
   "metadata": {},
   "outputs": [],
   "source": [
    "cont_transformer = Pipeline(steps=[('imputer', SimpleImputer(strategy='median')),\n",
    "                                    ('scaler', StandardScaler())])\n",
    "preprocess_onehot_impute_sd = ColumnTransformer(\n",
    "    [(\"cat\", OneHotEncoder(handle_unknown='ignore'),categorical),\n",
    "     (\"norm\", cont_transformer,  ~categorical)]) \n",
    "preprocess_onehot_impute_sd.fit_transform(X_train)\n",
    "features = preprocess_onehot_impute_sd.named_transformers_['cat'].get_feature_names()\n",
    "\n",
    "cat_lst = features.tolist()\n",
    "\n",
    "continuous_lst = ['tenure','MonthlyCharges', 'TotalCharges']\n",
    "\n",
    "def combine_twolist(list1, list2):\n",
    "    lst = []\n",
    "    for item in list1:\n",
    "        lst.append(item)\n",
    "    for item in list2:\n",
    "        lst.append(item)\n",
    "    return lst\n",
    "\n",
    "all_features_lst = combine_twolist(cat_lst,continuous_lst)"
   ]
  },
  {
   "cell_type": "code",
   "execution_count": 51,
   "metadata": {},
   "outputs": [],
   "source": [
    "def match_feature_coef(feature_list:list, coef_list: list):\n",
    "    \"\"\"\n",
    "    Return a dictionary that mathes feature name with coefficients: key are features, values are coefficients\n",
    "    feature_list: list of feature names\n",
    "    coef_list: list of coefficients\n",
    "    \"\"\"\n",
    "    i=0\n",
    "    coef_dict = {}\n",
    "    for item in feature_list:\n",
    "        coef_dict[item]=coef_list[i]\n",
    "        i+=1\n",
    "    return coef_dict\n",
    "\n",
    "\n",
    "def select_important_features(coef_dict:dict, upper:float, lower:float):\n",
    "    \"\"\"\n",
    "    Return a tuple: key are selected features, value are coefficients.\n",
    "    upper: float, the selected features should have coeffcients higher than upper\n",
    "    lower: float, the selected features should have coeffcients less than lower\n",
    "    \"\"\"\n",
    "    select_feature_dict = {}\n",
    "    for key, value in coef_dict.items():\n",
    "        if value >= upper:\n",
    "            select_feature_dict[key] = value\n",
    "        elif value <= lower:\n",
    "            select_feature_dict[key] = value\n",
    "    sort_select_feature_dict = sorted(select_feature_dict.items(), key=lambda x: x[1])\n",
    "    return sort_select_feature_dict\n",
    "    \n",
    "    \n",
    "def prepare_two_lists(sort_select_feature_dict):\n",
    "    \"\"\"\n",
    "    Return a feature list and a coefficient list.\n",
    "    Input is a list containg tuples(size=2)\n",
    "    \"\"\"\n",
    "    feature_list = []\n",
    "    coef_list = []\n",
    "    for item in sort_select_feature_dict:\n",
    "        feature_list.append(item[0])\n",
    "        coef_list.append(item[1])\n",
    "    return feature_list, coef_list"
   ]
  },
  {
   "cell_type": "markdown",
   "metadata": {},
   "source": [
    "#### Select Important Features for Logistic Regressions"
   ]
  },
  {
   "cell_type": "code",
   "execution_count": 52,
   "metadata": {},
   "outputs": [],
   "source": [
    "logistic_coef_lst = logistic_coef.tolist()[0]\n",
    "logistic_coef_dict = match_feature_coef(all_features_lst,logistic_coef_lst)\n",
    "logistic_sort_select_feature_dict = select_important_features(logistic_coef_dict, 0.2,-0.2)"
   ]
  },
  {
   "cell_type": "code",
   "execution_count": 53,
   "metadata": {},
   "outputs": [
    {
     "data": {
      "text/plain": [
       "Text(0, 0.5, 'Features')"
      ]
     },
     "execution_count": 53,
     "metadata": {},
     "output_type": "execute_result"
    },
    {
     "data": {
      "image/png": "[encoded data removed]",
      "text/plain": [
       "<Figure size 576x432 with 1 Axes>"
      ]
     },
     "metadata": {
      "needs_background": "light"
     },
     "output_type": "display_data"
    }
   ],
   "source": [
    "feature_list_logistic, coef_list_logistic = prepare_two_lists(logistic_sort_select_feature_dict)\n",
    "fig= plt.figure(figsize=(8,6))\n",
    "plt.barh(feature_list_logistic,coef_list_logistic)\n",
    "plt.title('Important Features for Logistic Regression')\n",
    "plt.xlabel('Coefficients')\n",
    "plt.ylabel('Features')"
   ]
  },
  {
   "cell_type": "markdown",
   "metadata": {},
   "source": [
    "### Plot coefficients for linear SVM"
   ]
  },
  {
   "cell_type": "code",
   "execution_count": 54,
   "metadata": {},
   "outputs": [],
   "source": [
    "svc_pipe = Pipeline(steps=[('ohe_sd', preprocess_onehot_impute_sd),\n",
    "                           ('svc', LinearSVC(C = svcparam))])\n",
    "svc_pipe.fit(X_train,y_train)\n",
    "svc_coef = svc_pipe.named_steps['svc'].coef_"
   ]
  },
  {
   "cell_type": "code",
   "execution_count": 55,
   "metadata": {},
   "outputs": [
    {
     "data": {
      "text/plain": [
       "Text(0.5, 1.0, 'Coefficients of Linear SVC')"
      ]
     },
     "execution_count": 55,
     "metadata": {},
     "output_type": "execute_result"
    },
    {
     "data": {
      "image/png": "[encoded data removed]",
      "text/plain": [
       "<Figure size 864x360 with 1 Axes>"
      ]
     },
     "metadata": {
      "needs_background": "light"
     },
     "output_type": "display_data"
    }
   ],
   "source": [
    "fig= plt.figure(figsize=(12,5))\n",
    "plt.scatter(range(svc_coef.shape[1]), svc_coef,\n",
    "            c=np.sign(svc_coef), cmap=\"bwr_r\")\n",
    "plt.title('Coefficients of Linear SVC')"
   ]
  },
  {
   "cell_type": "markdown",
   "metadata": {},
   "source": [
    "#### Select Important Features for Linear SVM"
   ]
  },
  {
   "cell_type": "code",
   "execution_count": 56,
   "metadata": {},
   "outputs": [],
   "source": [
    "svc_coef_lst = svc_coef.tolist()[0]\n",
    "svc_coef_dict = match_feature_coef(all_features_lst,svc_coef_lst)\n",
    "svc_sort_select_feature_dict = select_important_features(svc_coef_dict, 0.08,-0.08)"
   ]
  },
  {
   "cell_type": "code",
   "execution_count": 57,
   "metadata": {},
   "outputs": [
    {
     "data": {
      "text/plain": [
       "Text(0, 0.5, 'Features')"
      ]
     },
     "execution_count": 57,
     "metadata": {},
     "output_type": "execute_result"
    },
    {
     "data": {
      "image/png": "[encoded data removed]",
      "text/plain": [
       "<Figure size 576x432 with 1 Axes>"
      ]
     },
     "metadata": {
      "needs_background": "light"
     },
     "output_type": "display_data"
    }
   ],
   "source": [
    "feature_list_svc, coef_list_svc = prepare_two_lists(svc_sort_select_feature_dict)\n",
    "fig= plt.figure(figsize=(8,6))\n",
    "plt.barh(feature_list_svc,coef_list_svc)\n",
    "plt.title('Important Features for Linear SVC')\n",
    "plt.xlabel('Coefficients')\n",
    "plt.ylabel('Features')"
   ]
  },
  {
   "cell_type": "markdown",
   "metadata": {},
   "source": [
    "### Explanation:\n",
    "Both Logistic Regression and Linear SVM shows that tenure is an important feature to determine churn. Also, monthly charges, x6_DSL(categorical variable 'Internet Service'), x13_month_to_month(categorical variable 'contract') are also important."
   ]
  }
 ],
 "metadata": {
  "kernelspec": {
   "display_name": "coms007",
   "language": "python",
   "name": "coms007"
  },
  "language_info": {
   "codemirror_mode": {
    "name": "ipython",
    "version": 3
   },
   "file_extension": ".py",
   "mimetype": "text/x-python",
   "name": "python",
   "nbconvert_exporter": "python",
   "pygments_lexer": "ipython3",
   "version": "3.6.5"
  }
 },
 "nbformat": 4,
 "nbformat_minor": 2
}
